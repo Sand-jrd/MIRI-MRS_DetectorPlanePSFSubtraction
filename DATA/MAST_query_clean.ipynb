{
 "cells": [
  {
   "cell_type": "code",
   "execution_count": 1,
   "id": "ebabdfd3",
   "metadata": {},
   "outputs": [],
   "source": [
    "from astroquery.mast import Mast\n",
    "from astroquery.mast import Observations\n",
    "\n",
    "from os import mkdir\n",
    "from os.path import isdir"
   ]
  },
  {
   "cell_type": "code",
   "execution_count": 2,
   "id": "a8a27bf7",
   "metadata": {},
   "outputs": [],
   "source": [
    "token = '20a21749795140f89abb61815cc257fe' #string with your personal token"
   ]
  },
  {
   "cell_type": "code",
   "execution_count": 3,
   "id": "d3882f51",
   "metadata": {},
   "outputs": [
    {
     "name": "stdout",
     "output_type": "stream",
     "text": [
      "INFO: MAST API token accepted, welcome Sandrine Juillard [astroquery.mast.auth]\n"
     ]
    }
   ],
   "source": [
    "Observations.login(token=token)"
   ]
  },
  {
   "cell_type": "code",
   "execution_count": 4,
   "id": "1d411f94",
   "metadata": {},
   "outputs": [],
   "source": [
    "pid = '1050' #give PID\n",
    "obs_num = 9 #give obs number\n",
    "lvl = 'uncal' #do you want uncal, rate, or cal?\n",
    "\n",
    "pid_list = [['4497',4, \"ucol_uncal\"],['4497',5, \"ucol_bkg\"], \n",
    "            ['1536',24, \"umi_uncal\"],['1536',86, \"umi_bkg\"],  \n",
    "            ['4496',9, \"hr5467_uncal\"],['4496',10, \"hr5467_bkg\"],  \n",
    "            ['1536',22, \"hd2811_uncal\"],['1536',85, \"hd2811_bkg\"],  \n",
    "            ['1536',23, \"hd163466_uncal\"],['1536',87, \"hd163466_bkg\"],  \n",
    "            ['4498',11, \"hr6538_uncal\"],['4498',12, \"hr6538_bkg\"],  \n",
    "            ['1538',1, \"cygB_uncal\"],['1538',75, \"cygB_bkg\"],  \n",
    "            ['1538',2, \"hd37962_uncal\"],['1538',76, \"hd37962_bkg\"],  \n",
    "            ['1538',3, \"hd167060_uncal\"],['1538',74, \"hd167060_bkg\"],  \n",
    "            ]\n",
    "\n",
    "pid_list =[[\"4829\",2,\"HR8799ref_uncal\"],[\"4829\",4,\"HR8799ref_uncal\"],[\"4829\",6,\"HR8799ref_uncal\"]]"
   ]
  },
  {
   "cell_type": "markdown",
   "id": "91648add",
   "metadata": {},
   "source": [
    "μ Col, PID, 4497, SCI, 4, BKG, 5\n",
    "δ UMi, PID, 1536, SCI, 24, BKG, 86\n",
    "HR 5467, PID, 4496, SCI, 9, BKG, 10\n",
    "HD 2811, PID, 1536, SCI, 22, BKG, 85\n",
    "HD 163466, PID, 1536, SCI, 23, BKG, 87\n",
    "HR 6538, PID, 4498, SCI, 11, BKG, 12\n",
    "16 Cyg B, PID, 1538, SCI, 1, BKG, 75\n",
    "HD 37962, PID, 1538, SCI, 2, BKG, 76\n",
    "HD 167060, PID, 1538, SCI, 3, BKG, 74 (modifié) "
   ]
  },
  {
   "cell_type": "code",
   "execution_count": 5,
   "id": "5b3f4f75",
   "metadata": {},
   "outputs": [
    {
     "name": "stdout",
     "output_type": "stream",
     "text": [
      "4829\n",
      "HR8799ref_uncal\n",
      "2\n",
      "  obsID   obs_collection dataproduct_type ... calib_level  filters  \n",
      "--------- -------------- ---------------- ... ----------- ----------\n",
      "232954296           JWST            image ...           1        FND\n",
      "232954296           JWST            image ...           1        FND\n",
      "232954296           JWST            image ...           1        FND\n",
      "232954296           JWST            image ...           1        FND\n",
      "232954296           JWST            image ...           1        FND\n",
      "232954296           JWST            image ...           1        FND\n",
      "232954296           JWST            image ...           1        FND\n",
      "232954296           JWST            image ...           1        FND\n",
      "232954296           JWST            image ...           1        FND\n",
      "232954296           JWST            image ...           1        FND\n",
      "      ...            ...              ... ...         ...        ...\n",
      "232954312           JWST            image ...           1 CH34-SHORT\n",
      "232954312           JWST            image ...           1 CH34-SHORT\n",
      "232954312           JWST            image ...           1 CH34-SHORT\n",
      "232954312           JWST            image ...           1 CH34-SHORT\n",
      "232954312           JWST            image ...           1 CH34-SHORT\n",
      "232954312           JWST            image ...           1 CH34-SHORT\n",
      "232954312           JWST            image ...           1 CH34-SHORT\n",
      "232954312           JWST            image ...           1 CH34-SHORT\n",
      "232954312           JWST            image ...           1 CH34-SHORT\n",
      "232954312           JWST            image ...           1 CH34-SHORT\n",
      "232954312           JWST            image ...           1 CH34-SHORT\n",
      "Length = 3420 rows\n",
      "INFO: 3393 of 3420 products were duplicates. Only downloading 27 unique product(s). [astroquery.mast.observations]\n",
      "4829\n",
      "HR8799ref_uncal\n",
      "4\n"
     ]
    },
    {
     "name": "stderr",
     "output_type": "stream",
     "text": [
      "WARNING: NoResultsWarning: No products to download. [astroquery.mast.observations]\n"
     ]
    },
    {
     "name": "stdout",
     "output_type": "stream",
     "text": [
      "  obsID   obs_collection dataproduct_type ... calib_level   filters  \n",
      "--------- -------------- ---------------- ... ----------- -----------\n",
      "232954393           JWST            image ...           1         FND\n",
      "232954393           JWST            image ...           1         FND\n",
      "232954393           JWST            image ...           1         FND\n",
      "232954393           JWST            image ...           1         FND\n",
      "232954393           JWST            image ...           1         FND\n",
      "232954393           JWST            image ...           1         FND\n",
      "232954393           JWST            image ...           1         FND\n",
      "232954393           JWST            image ...           1         FND\n",
      "232954393           JWST            image ...           1         FND\n",
      "232954393           JWST            image ...           1         FND\n",
      "      ...            ...              ... ...         ...         ...\n",
      "232954475           JWST            image ...           1 CH12-MEDIUM\n",
      "232954475           JWST            image ...           1 CH12-MEDIUM\n",
      "232954475           JWST            image ...           1 CH12-MEDIUM\n",
      "232954475           JWST            image ...           1 CH12-MEDIUM\n",
      "232954475           JWST            image ...           1 CH12-MEDIUM\n",
      "232954475           JWST            image ...           1 CH12-MEDIUM\n",
      "232954475           JWST            image ...           1 CH12-MEDIUM\n",
      "232954475           JWST            image ...           1 CH12-MEDIUM\n",
      "232954475           JWST            image ...           1 CH12-MEDIUM\n",
      "232954475           JWST            image ...           1 CH12-MEDIUM\n",
      "232954475           JWST            image ...           1 CH12-MEDIUM\n",
      "Length = 3420 rows\n",
      "INFO: 3393 of 3420 products were duplicates. Only downloading 27 unique product(s). [astroquery.mast.observations]\n",
      "4829\n",
      "HR8799ref_uncal\n",
      "6\n",
      "  obsID   obs_collection dataproduct_type ... calib_level  filters \n",
      "--------- -------------- ---------------- ... ----------- ---------\n",
      "232957611           JWST            image ...           1       FND\n",
      "232957611           JWST            image ...           1       FND\n",
      "232957611           JWST            image ...           1       FND\n",
      "232957611           JWST            image ...           1       FND\n",
      "232957611           JWST            image ...           1       FND\n",
      "232957611           JWST            image ...           1       FND\n",
      "232957611           JWST            image ...           1       FND\n",
      "232957611           JWST            image ...           1       FND\n",
      "232957611           JWST            image ...           1       FND\n",
      "232957611           JWST            image ...           1       FND\n",
      "      ...            ...              ... ...         ...       ...\n",
      "232958922           JWST            image ...           1 CH34-LONG\n",
      "232958922           JWST            image ...           1 CH34-LONG\n",
      "232958922           JWST            image ...           1 CH34-LONG\n",
      "232958922           JWST            image ...           1 CH34-LONG\n",
      "232958922           JWST            image ...           1 CH34-LONG\n",
      "232958922           JWST            image ...           1 CH34-LONG\n",
      "232958922           JWST            image ...           1 CH34-LONG\n",
      "232958922           JWST            image ...           1 CH34-LONG\n",
      "232958922           JWST            image ...           1 CH34-LONG\n",
      "232958922           JWST            image ...           1 CH34-LONG\n",
      "232958922           JWST            image ...           1 CH34-LONG\n",
      "Length = 3420 rows\n",
      "INFO: 3393 of 3420 products were duplicates. Only downloading 27 unique product(s). [astroquery.mast.observations]\n"
     ]
    }
   ],
   "source": [
    "from astropy.table import vstack\n",
    "\n",
    "for pid, obs_num, name in pid_list:\n",
    "\n",
    "    print(pid)\n",
    "    print(name)\n",
    "    print(obs_num)\n",
    "    name_target = name.split('_')[0]\n",
    "    maindir  = \"./\"+name_target+\"/\"\n",
    "    if not isdir(maindir): mkdir(maindir) \n",
    "\n",
    "    save_dir  = maindir+name+\"/\"\n",
    "    if not isdir(save_dir): mkdir(save_dir) \n",
    "\n",
    "    obs = Observations.query_criteria(\n",
    "        obs_collection='JWST',\n",
    "        proposal_id=pid, \n",
    "    )\n",
    "\n",
    "    # products = Observations.get_product_list(obs)\n",
    "    product_list = [Observations.get_product_list(ob) for ob in obs]\n",
    "    products = vstack(product_list)\n",
    "\n",
    "    p = []\n",
    "    for i in range(len(products)):\n",
    "        p.append(products[i][\"productFilename\"])\n",
    "\n",
    "    pid_str = str(pid).zfill(5)\n",
    "    obs_str = str(obs_num).zfill(3)\n",
    "\n",
    "    which = [i for i, p in enumerate(products) if p[\"productFilename\"].split(\"_\")[0] + '_' +p[\"productFilename\"].split(\"_\")[-1] in [\"jw{}{}001_{}.fits\".format(pid_str,obs_str,lvl)]]\n",
    "    products = products[which]\n",
    "\n",
    "    # which = [i for i, p in enumerate(products) if \"gs\" not in p[\"productFilename\"]]\n",
    "    # products = products[which]\n",
    "    # product = products.reverse()\n",
    "    # print(save_dir)\n",
    "    print(products)\n",
    "    Observations.download_products(products, mrp_only=True, download_dir=save_dir, flat=True)"
   ]
  },
  {
   "cell_type": "code",
   "execution_count": 6,
   "id": "dd9fed78",
   "metadata": {},
   "outputs": [
    {
     "name": "stdout",
     "output_type": "stream",
     "text": [
      "INFO: 3393 of 3420 products were duplicates. Only downloading 27 unique product(s). [astroquery.mast.observations]\n"
     ]
    }
   ],
   "source": [
    "Observations.download_products(products, mrp_only=True, download_dir=save_dir, flat=True)"
   ]
  }
 ],
 "metadata": {
  "kernelspec": {
   "display_name": "skysub",
   "language": "python",
   "name": "python3"
  },
  "language_info": {
   "codemirror_mode": {
    "name": "ipython",
    "version": 3
   },
   "file_extension": ".py",
   "mimetype": "text/x-python",
   "name": "python",
   "nbconvert_exporter": "python",
   "pygments_lexer": "ipython3",
   "version": "3.7.12"
  }
 },
 "nbformat": 4,
 "nbformat_minor": 5
}
